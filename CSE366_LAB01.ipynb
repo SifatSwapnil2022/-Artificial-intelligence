{
 "cells": [
  {
   "cell_type": "code",
   "execution_count": 2,
   "metadata": {},
   "outputs": [
    {
     "name": "stdout",
     "output_type": "stream",
     "text": [
      "This course is CSE366\n"
     ]
    }
   ],
   "source": [
    "print(\"This course is CSE366\");"
   ]
  },
  {
   "cell_type": "code",
   "execution_count": 12,
   "metadata": {},
   "outputs": [
    {
     "name": "stdout",
     "output_type": "stream",
     "text": [
      "YES1\n",
      "yes3\n",
      "yes4\n",
      "yes5\n",
      "yes6\n"
     ]
    }
   ],
   "source": [
    "x=200\n",
    "y=2001\n",
    "if x<y:\n",
    "    print('YES1')\n",
    "if x>y:\n",
    "    print('yes2')\n",
    "if x:\n",
    "    print('yes3')\n",
    "if y:\n",
    "    print('yes4')\n",
    "if x or y:\n",
    "    print('yes5')\n",
    "if 'fat' in 'sifat':\n",
    "    print('yes6')\n",
    "if 'fat' in ['foo','sifa','fasi']:\n",
    "    print('yes7')\n"
   ]
  },
  {
   "cell_type": "code",
   "execution_count": 7,
   "metadata": {},
   "outputs": [
    {
     "name": "stdout",
     "output_type": "stream",
     "text": [
      "His name is John Wickage is \n",
      "Name is John Wick.Age is 39\n"
     ]
    }
   ],
   "source": [
    "name = \"John Wick\"\n",
    "age = 39\n",
    "print(\"His name is \"+name +\"age is \")\n",
    "print(f\"His name is {name}.Age is {age}\")\n"
   ]
  },
  {
   "cell_type": "code",
   "execution_count": 15,
   "metadata": {},
   "outputs": [
    {
     "name": "stdout",
     "output_type": "stream",
     "text": [
      "Condition is true in here\n",
      "Between inner conditons\n",
      "Inner condition-2\n",
      "end of outer condition\n",
      "after outer condition\n"
     ]
    }
   ],
   "source": [
    "if 'foo' in ['foo','sfat','baz']:\n",
    "  print('Condition is true in here')\n",
    "  if 10 > 20:\n",
    "    print('condition-2')\n",
    "  print('Between inner conditons')\n",
    "  if 10<45:\n",
    "    print('Inner condition-2')\n",
    "  print('end of outer condition')\n",
    "print('after outer condition')"
   ]
  },
  {
   "cell_type": "code",
   "execution_count": 16,
   "metadata": {},
   "outputs": [
    {
     "name": "stdout",
     "output_type": "stream",
     "text": [
      "(first one)\n",
      "x is small\n"
     ]
    }
   ],
   "source": [
    "x=20\n",
    "if x<50:\n",
    "    print('(first one)')\n",
    "    print('x is small')\n",
    "else:\n",
    "    print('(second one)')\n",
    "    print('x is large')\n"
   ]
  },
  {
   "cell_type": "code",
   "execution_count": 17,
   "metadata": {},
   "outputs": [
    {
     "name": "stdout",
     "output_type": "stream",
     "text": [
      "(second one)\n",
      "x is large\n"
     ]
    }
   ],
   "source": [
    "x=121\n",
    "if x<50:\n",
    "    print('(first one)')\n",
    "    print('x is small')\n",
    "else:\n",
    "    print('(second one)')\n",
    "    print('x is large')"
   ]
  },
  {
   "cell_type": "code",
   "execution_count": 18,
   "metadata": {},
   "outputs": [
    {
     "name": "stdout",
     "output_type": "stream",
     "text": [
      "hello joe !!!!!\n"
     ]
    }
   ],
   "source": [
    "name ='joe'\n",
    "if name == 'Fred':\n",
    "    print('hello sifat')\n",
    "elif name == 'xander':\n",
    "    print('hello xander')\n",
    "elif name == 'joe':\n",
    "    print('hello joe !!!!!')\n",
    "else:\n",
    "    print(\"i do not know who you are ??\")\n"
   ]
  },
  {
   "cell_type": "code",
   "execution_count": 19,
   "metadata": {},
   "outputs": [
    {
     "name": "stdout",
     "output_type": "stream",
     "text": [
      "hello joe\n",
      "i dont know who you are?\n"
     ]
    }
   ],
   "source": [
    "names = {\n",
    "    'fred' :'hello fred',\n",
    "    'xander':'hello xander',\n",
    "    'joe':'hello joe'\n",
    "}\n",
    "print(names.get('joe','I dont know who you are ?'))\n",
    "print(names.get('rick','i dont know who you are?'))"
   ]
  },
  {
   "cell_type": "code",
   "execution_count": 20,
   "metadata": {},
   "outputs": [
    {
     "name": "stdout",
     "output_type": "stream",
     "text": [
      "1\n",
      "2\n",
      "3\n"
     ]
    }
   ],
   "source": [
    "if 'f' in 'foo': print('1'); print('2'); print('3')\n",
    "if 'z' in 'foo': print('1'); print('2'); print('3')\n"
   ]
  },
  {
   "cell_type": "code",
   "execution_count": 21,
   "metadata": {},
   "outputs": [
    {
     "name": "stdout",
     "output_type": "stream",
     "text": [
      "qux\n",
      "quux\n",
      "corge\n",
      "grault\n"
     ]
    }
   ],
   "source": [
    "x = 2\n",
    "if x == 1: print('foo'); print('bar'); print('baz')\n",
    "elif x == 2: print('qux'); print('quux')\n",
    "else: print('corge'); print('grault')\n",
    "\n",
    "\n",
    "\n",
    "x = 3\n",
    "if x == 1: print('foo'); print('bar'); print('baz')\n",
    "elif x == 2: print('qux'); print('quux')\n",
    "else: print('corge'); print('grault')\n",
    "\n"
   ]
  },
  {
   "cell_type": "code",
   "execution_count": 23,
   "metadata": {},
   "outputs": [
    {
     "name": "stdout",
     "output_type": "stream",
     "text": [
      "Let's go to the beach\n",
      "Let's go to the library\n"
     ]
    },
    {
     "data": {
      "text/plain": [
       "'no'"
      ]
     },
     "execution_count": 23,
     "metadata": {},
     "output_type": "execute_result"
    }
   ],
   "source": [
    "raining = False\n",
    "print(\"Let's go to the\", 'beach' if not raining else 'library')\n",
    "\n",
    "raining = True\n",
    "print(\"Let's go to the\", 'beach' if not raining else 'library')\n",
    "\n",
    "age = 12\n",
    "s = 'minor' if age < 21 else 'adult'\n",
    "s\n",
    "\n",
    "'yes' if ('qux' in ['foo', 'bar', 'baz']) else 'no'\n"
   ]
  },
  {
   "cell_type": "code",
   "execution_count": 26,
   "metadata": {},
   "outputs": [
    {
     "data": {
      "text/plain": [
       "42"
      ]
     },
     "execution_count": 26,
     "metadata": {},
     "output_type": "execute_result"
    }
   ],
   "source": [
    "x=y =40\n",
    "z=1+x if x>y else y+2\n",
    "z\n",
    "z=(1+x) if x>y else(y+2)\n",
    "z"
   ]
  },
  {
   "cell_type": "code",
   "execution_count": 27,
   "metadata": {},
   "outputs": [
    {
     "data": {
      "text/plain": [
       "53"
      ]
     },
     "execution_count": 27,
     "metadata": {},
     "output_type": "execute_result"
    }
   ],
   "source": [
    "x=y=50\n",
    "z=1 + (x if x>y else y)+2\n",
    "z"
   ]
  }
 ],
 "metadata": {
  "kernelspec": {
   "display_name": "Python 3",
   "language": "python",
   "name": "python3"
  },
  "language_info": {
   "codemirror_mode": {
    "name": "ipython",
    "version": 3
   },
   "file_extension": ".py",
   "mimetype": "text/x-python",
   "name": "python",
   "nbconvert_exporter": "python",
   "pygments_lexer": "ipython3",
   "version": "3.12.2"
  }
 },
 "nbformat": 4,
 "nbformat_minor": 2
}
