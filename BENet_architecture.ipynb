{
  "nbformat": 4,
  "nbformat_minor": 0,
  "metadata": {
    "colab": {
      "private_outputs": true,
      "provenance": []
    },
    "kernelspec": {
      "name": "python3",
      "display_name": "Python 3"
    },
    "language_info": {
      "name": "python"
    }
  },
  "cells": [
    {
      "cell_type": "code",
      "execution_count": null,
      "metadata": {
        "id": "h-ckdt1gonqd"
      },
      "outputs": [],
      "source": [
        "pip install tensorflow matplotlib numpy opencv-python\n"
      ]
    },
    {
      "cell_type": "code",
      "source": [
        "from google.colab import drive\n",
        "drive.mount('/content/drive')"
      ],
      "metadata": {
        "id": "elgb6x-vqw9W"
      },
      "execution_count": null,
      "outputs": []
    },
    {
      "cell_type": "code",
      "source": [],
      "metadata": {
        "id": "s4VHBtVUqw8n"
      },
      "execution_count": null,
      "outputs": []
    },
    {
      "cell_type": "code",
      "source": [
        "import os\n",
        "import numpy as np\n",
        "import matplotlib.pyplot as plt\n",
        "import cv2\n",
        "import tensorflow as tf\n",
        "from tensorflow.keras.preprocessing.image import ImageDataGenerator\n",
        "from tensorflow.keras.models import Sequential\n",
        "from tensorflow.keras.layers import Conv2D, MaxPooling2D, Flatten, Dense, Dropout\n",
        "from sklearn.metrics import classification_report, confusion_matrix\n"
      ],
      "metadata": {
        "id": "md9qNQYqqU8N"
      },
      "execution_count": null,
      "outputs": []
    },
    {
      "cell_type": "code",
      "source": [
        "# Set paths to your dataset\n",
        "train_dir = '/content/drive/MyDrive/Artificial Intelligence part_1/Train'\n",
        "test_dir = '/content/drive/MyDrive/Artificial Intelligence part_1/Test'\n",
        "\n",
        "# Image data generators for training and testing\n",
        "train_datagen = ImageDataGenerator(rescale=1./255, rotation_range=20,\n",
        "                                    width_shift_range=0.2, height_shift_range=0.2,\n",
        "                                    shear_range=0.2, zoom_range=0.2,\n",
        "                                    horizontal_flip=True)\n",
        "\n",
        "test_datagen = ImageDataGenerator(rescale=1./255)\n",
        "\n",
        "# Load images from directories\n",
        "train_generator = train_datagen.flow_from_directory(\n",
        "    train_dir,\n",
        "    target_size=(224, 224),  # Adjust based on your model input size\n",
        "    batch_size=32,\n",
        "    class_mode='binary')\n",
        "\n",
        "test_generator = test_datagen.flow_from_directory(\n",
        "    test_dir,\n",
        "    target_size=(224, 224),\n",
        "    batch_size=32,\n",
        "    class_mode='binary')\n"
      ],
      "metadata": {
        "id": "PMqKyvlKqqVl"
      },
      "execution_count": null,
      "outputs": []
    },
    {
      "cell_type": "code",
      "source": [
        "def create_model():\n",
        "    model = Sequential()\n",
        "    model.add(Conv2D(32, (3, 3), activation='relu', input_shape=(224, 224, 3)))\n",
        "    model.add(MaxPooling2D(pool_size=(2, 2)))\n",
        "\n",
        "    model.add(Conv2D(64, (3, 3), activation='relu'))\n",
        "    model.add(MaxPooling2D(pool_size=(2, 2)))\n",
        "\n",
        "    model.add(Conv2D(128, (3, 3), activation='relu'))\n",
        "    model.add(MaxPooling2D(pool_size=(2, 2)))\n",
        "\n",
        "    model.add(Flatten())\n",
        "    model.add(Dense(128, activation='relu'))\n",
        "    model.add(Dropout(0.5))\n",
        "    model.add(Dense(1, activation='sigmoid'))  # Binary classification\n",
        "\n",
        "    model.compile(optimizer='adam', loss='binary_crossentropy', metrics=['accuracy'])\n",
        "\n",
        "    return model\n",
        "\n",
        "model = create_model()\n"
      ],
      "metadata": {
        "id": "hcP6J8Q0rLP5"
      },
      "execution_count": null,
      "outputs": []
    },
    {
      "cell_type": "code",
      "source": [
        "history = model.fit(train_generator,\n",
        "                    steps_per_epoch=train_generator.samples // train_generator.batch_size,\n",
        "                    validation_data=test_generator,\n",
        "                    validation_steps=test_generator.samples // test_generator.batch_size,\n",
        "                    epochs=10)  # Adjust epochs as needed\n"
      ],
      "metadata": {
        "id": "W8Y5dj6RrPeA"
      },
      "execution_count": null,
      "outputs": []
    },
    {
      "cell_type": "code",
      "source": [
        "# Plot training & validation accuracy values\n",
        "plt.figure(figsize=(12, 4))\n",
        "plt.subplot(1, 2, 1)\n",
        "plt.plot(history.history['accuracy'], label='train_accuracy')\n",
        "plt.plot(history.history['val_accuracy'], label='val_accuracy')\n",
        "plt.title('Model accuracy')\n",
        "plt.ylabel('Accuracy')\n",
        "plt.xlabel('Epoch')\n",
        "plt.legend()\n",
        "\n",
        "# Plot training & validation loss values\n",
        "plt.subplot(1, 2, 2)\n",
        "plt.plot(history.history['loss'], label='train_loss')\n",
        "plt.plot(history.history['val_loss'], label='val_loss')\n",
        "plt.title('Model loss')\n",
        "plt.ylabel('Loss')\n",
        "plt.xlabel('Epoch')\n",
        "plt.legend()\n",
        "\n",
        "plt.show()\n"
      ],
      "metadata": {
        "id": "QftFlqsE3Prx"
      },
      "execution_count": null,
      "outputs": []
    },
    {
      "cell_type": "code",
      "source": [
        "# Evaluate the model on test data\n",
        "test_loss, test_accuracy = model.evaluate(test_generator)\n",
        "print(f'Test Accuracy: {test_accuracy:.4f}')\n",
        "\n",
        "# Predictions and confusion matrix\n",
        "Y_pred = model.predict(test_generator)\n",
        "y_pred = np.round(Y_pred).astype(int)\n",
        "\n",
        "# Generate classification report and confusion matrix\n",
        "print(classification_report(test_generator.classes, y_pred))\n",
        "cm = confusion_matrix(test_generator.classes, y_pred)\n",
        "\n",
        "# Plot confusion matrix\n",
        "plt.figure(figsize=(8, 6))\n",
        "plt.imshow(cm, interpolation='nearest', cmap=plt.cm.Blues)\n",
        "plt.title('Confusion Matrix')\n",
        "plt.colorbar()\n",
        "tick_marks = np.arange(2)\n",
        "plt.xticks(tick_marks, ['Real', 'Fake'])\n",
        "plt.yticks(tick_marks, ['Real', 'Fake'])\n",
        "\n",
        "thresh = cm.max() / 2.\n",
        "for i, j in np.ndindex(cm.shape):\n",
        "    plt.text(j, i, cm[i, j], horizontalalignment=\"center\",\n",
        "             color=\"white\" if cm[i, j] > thresh else \"black\")\n",
        "\n",
        "plt.ylabel('True label')\n",
        "plt.xlabel('Predicted label')\n",
        "plt.tight_layout()\n",
        "plt.show()\n"
      ],
      "metadata": {
        "id": "qKXjlFBX3VMD"
      },
      "execution_count": null,
      "outputs": []
    },
    {
      "cell_type": "code",
      "source": [
        "import numpy as np\n",
        "import matplotlib.pyplot as plt\n",
        "import seaborn as sns\n",
        "from sklearn.metrics import classification_report, confusion_matrix\n"
      ],
      "metadata": {
        "id": "JA7wxIeKHG6b"
      },
      "execution_count": null,
      "outputs": []
    },
    {
      "cell_type": "code",
      "source": [
        "# Evaluate the model on test data\n",
        "test_loss, test_accuracy = model.evaluate(test_generator)\n",
        "print(f'Test Accuracy: {test_accuracy:.4f}')\n",
        "\n",
        "# Predictions on test data\n",
        "Y_pred = model.predict(test_generator)\n",
        "y_pred = np.round(Y_pred).astype(int)\n"
      ],
      "metadata": {
        "id": "dFh-y3t-HN-n"
      },
      "execution_count": null,
      "outputs": []
    },
    {
      "cell_type": "code",
      "source": [
        "# Generate classification report\n",
        "print(classification_report(test_generator.classes, y_pred, target_names=['Real', 'Fake']))\n"
      ],
      "metadata": {
        "id": "d7C5UF_nHTQn"
      },
      "execution_count": null,
      "outputs": []
    },
    {
      "cell_type": "code",
      "source": [
        "# Confusion matrix\n",
        "cm = confusion_matrix(test_generator.classes, y_pred)\n",
        "\n",
        "# Plot confusion matrix using seaborn\n",
        "plt.figure(figsize=(8, 6))\n",
        "sns.heatmap(cm, annot=True, fmt='d', cmap='Blues', xticklabels=['Real', 'Fake'], yticklabels=['Real', 'Fake'])\n",
        "plt.ylabel('True label')\n",
        "plt.xlabel('Predicted label')\n",
        "plt.title('Confusion Matrix')\n",
        "plt.show()\n"
      ],
      "metadata": {
        "id": "0vC08ljIJv1V"
      },
      "execution_count": null,
      "outputs": []
    },
    {
      "cell_type": "code",
      "source": [
        "# Get indices of misclassified images\n",
        "misclassified_indices = np.where(y_pred.flatten() != test_generator.classes)[0]\n",
        "\n",
        "# Display misclassified images\n",
        "plt.figure(figsize=(12, 12))\n",
        "for i, idx in enumerate(misclassified_indices[:9]):  # Display first 9 misclassified images\n",
        "    img = test_generator[idx][0][0]  # Get image from generator\n",
        "    plt.subplot(3, 3, i + 1)\n",
        "    plt.imshow(img)\n",
        "    plt.title(f'True: {test_generator.classes[idx]}, Predicted: {y_pred[idx]}')\n",
        "    plt.axis('off')\n",
        "plt.show()\n"
      ],
      "metadata": {
        "id": "dGndpNtnJ2Hh"
      },
      "execution_count": null,
      "outputs": []
    },
    {
      "cell_type": "code",
      "source": [
        "\n",
        "\n",
        "from PIL import Image, ImageChops, ImageEnhance\n",
        "import numpy as np\n",
        "import matplotlib.pyplot as plt\n",
        "\n",
        "def perform_ela(image_path, quality=95):\n",
        "    \"\"\"\n",
        "    Perform Error Level Analysis (ELA) on an image.\n",
        "\n",
        "    Args:\n",
        "        image_path (str): Path to the input image.\n",
        "        quality (int): Compression quality for ELA analysis.\n",
        "\n",
        "    Returns:\n",
        "        ela_image (PIL.Image.Image): ELA analysis result as an image.\n",
        "    \"\"\"\n",
        "    # Load the original image\n",
        "    original = Image.open(image_path).convert('RGB')\n",
        "\n",
        "    # Save the image with the specified quality\n",
        "    temp_path = 'temp_compressed.jpg'\n",
        "    original.save(temp_path, 'JPEG', quality=quality)\n",
        "\n",
        "    # Reopen the compressed image\n",
        "    compressed = Image.open(temp_path)\n",
        "\n",
        "    # Calculate the difference\n",
        "    ela_image = ImageChops.difference(original, compressed)\n",
        "\n",
        "    # Enhance the difference for better visualization\n",
        "    extrema = ela_image.getextrema()\n",
        "    max_diff = max([ex[1] for ex in extrema])\n",
        "    scale = 255.0 / max_diff if max_diff != 0 else 1\n",
        "    ela_image = ImageEnhance.Brightness(ela_image).enhance(scale)\n",
        "\n",
        "    return ela_image\n",
        "\n",
        "def display_ela(image_path, ela_result):\n",
        "    \"\"\"\n",
        "    Display the original and ELA images side by side.\n",
        "\n",
        "    Args:\n",
        "        image_path (str): Path to the input image.\n",
        "        ela_result (PIL.Image.Image): ELA result as an image.\n",
        "    \"\"\"\n",
        "    original = Image.open(image_path).convert('RGB')\n",
        "\n",
        "    # Plot original and ELA result\n",
        "    fig, axes = plt.subplots(1, 2, figsize=(12, 6))\n",
        "    axes[0].imshow(np.array(original))\n",
        "    axes[0].set_title('Original Image')\n",
        "    axes[0].axis('off')\n",
        "\n",
        "    axes[1].imshow(np.array(ela_result))\n",
        "    axes[1].set_title('ELA Result')\n",
        "    axes[1].axis('off')\n",
        "\n",
        "    plt.tight_layout()\n",
        "    plt.show()\n",
        "\n",
        "# Example usage with your specific image path\n",
        "image_path = '/content/drive/MyDrive/Artificial Intelligence part_1/images.jfif'  # Path to your image\n",
        "ela_image = perform_ela(image_path)\n",
        "display_ela(image_path, ela_image)\n"
      ],
      "metadata": {
        "id": "F1yckNvAJ6Jb"
      },
      "execution_count": null,
      "outputs": []
    },
    {
      "cell_type": "code",
      "source": [],
      "metadata": {
        "id": "QP3EpkxfU05E"
      },
      "execution_count": null,
      "outputs": []
    }
  ]
}