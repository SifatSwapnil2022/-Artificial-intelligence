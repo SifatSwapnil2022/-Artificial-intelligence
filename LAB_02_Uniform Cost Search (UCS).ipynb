{
 "cells": [
  {
   "cell_type": "code",
   "execution_count": 2,
   "metadata": {
    "collapsed": true,
    "executionInfo": {
     "elapsed": 547,
     "status": "ok",
     "timestamp": 1707804318236,
     "user": {
      "displayName": "Md Al-Imran",
      "userId": "07352118107136348361"
     },
     "user_tz": -360
    },
    "id": "73_U7MIav_Md"
   },
   "outputs": [],
   "source": [
    "class Node(object):\n",
    "    \"\"\"This class represents a node in a graph.\"\"\"\n",
    "\n",
    "    def __init__(self, label: str=None):\n",
    "        \"\"\"\n",
    "        Initialize a new node.\n",
    "\n",
    "        Args:\n",
    "            label: the string identifier for the node\n",
    "        \"\"\"\n",
    "        self.label = label\n",
    "        self.children = []\n",
    "\n",
    "    def __lt__(self,other):\n",
    "        \"\"\"\n",
    "        Perform the less than operation (self < other).\n",
    "\n",
    "        Args:\n",
    "            other: the other Node to compare to\n",
    "        \"\"\"\n",
    "        return (self.label < other.label)\n",
    "\n",
    "    def __gt__(self,other):\n",
    "        \"\"\"\n",
    "        Perform the greater than operation (self > other).\n",
    "\n",
    "        Args:\n",
    "            other: the other Node to compare to\n",
    "        \"\"\"\n",
    "        return (self.label > other.label)\n",
    "\n",
    "    def __repr__(self):\n",
    "        \"\"\"Return a string form of this node.\"\"\"\n",
    "        return '{} -> {}'.format(self.label, self.children)\n",
    "\n",
    "    def add_child(self, node, cost=1):\n",
    "        \"\"\"\n",
    "        Add a child node to this node.\n",
    "\n",
    "        Args:\n",
    "            node: the node to add to the children\n",
    "            cost: the cost of the edge (default 1)\n",
    "        \"\"\"\n",
    "        edge = Edge(self, node, cost)\n",
    "        self.children.append(edge)\n",
    "\n",
    "\n",
    "class Edge(object):\n",
    "    \"\"\"This class represents an edge in a graph.\"\"\"\n",
    "\n",
    "    def __init__(self, source: Node, destination: Node, cost: int=1):\n",
    "        \"\"\"\n",
    "        Initialize a new edge.\n",
    "\n",
    "        Args:\n",
    "            source: the source of the edge\n",
    "            destination: the destination of the edge\n",
    "            cost: the cost of the edge (default 1)\n",
    "        \"\"\"\n",
    "        self.source = source\n",
    "        self.destination = destination\n",
    "        self.cost = cost\n",
    "\n",
    "    def __repr__(self):\n",
    "        \"\"\"Return a string form of this edge.\"\"\"\n",
    "        return '{}: {}'.format(self.cost, self.destination.label)\n"
   ]
  },
  {
   "cell_type": "markdown",
   "metadata": {
    "collapsed": true,
    "id": "IlbZi4STv_Mg"
   },
   "source": [
    "![ucs-graph.png](data:image/png;base64,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)"
   ]
  },
  {
   "cell_type": "markdown",
   "metadata": {
    "id": "O2K3qkR4v_Mh"
   },
   "source": [
    "Create all the nodes"
   ]
  },
  {
   "cell_type": "code",
   "execution_count": 3,
   "metadata": {
    "collapsed": true,
    "executionInfo": {
     "elapsed": 7,
     "status": "ok",
     "timestamp": 1707804319521,
     "user": {
      "displayName": "Md Al-Imran",
      "userId": "07352118107136348361"
     },
     "user_tz": -360
    },
    "id": "0tgEeo0Tv_Mi"
   },
   "outputs": [],
   "source": [
    "S = Node('S')\n",
    "A = Node('A')\n",
    "B = Node('B')\n",
    "C = Node('C')\n",
    "D = Node('D')\n",
    "G = Node('G')"
   ]
  },
  {
   "cell_type": "code",
   "execution_count": 4,
   "metadata": {
    "colab": {
     "base_uri": "https://localhost:8080/"
    },
    "executionInfo": {
     "elapsed": 6,
     "status": "ok",
     "timestamp": 1707804319521,
     "user": {
      "displayName": "Md Al-Imran",
      "userId": "07352118107136348361"
     },
     "user_tz": -360
    },
    "id": "IfbtcCGA8mTz",
    "outputId": "6373b123-e04b-4329-d524-77eccdff094c"
   },
   "outputs": [
    {
     "data": {
      "text/plain": [
       "__main__.Node"
      ]
     },
     "execution_count": 4,
     "metadata": {},
     "output_type": "execute_result"
    }
   ],
   "source": [
    "type(S)"
   ]
  },
  {
   "cell_type": "markdown",
   "metadata": {
    "id": "nUmjlQbkv_Mi"
   },
   "source": [
    "create all the edges"
   ]
  },
  {
   "cell_type": "code",
   "execution_count": 6,
   "metadata": {
    "collapsed": true,
    "executionInfo": {
     "elapsed": 1645,
     "status": "ok",
     "timestamp": 1707804321162,
     "user": {
      "displayName": "Md Al-Imran",
      "userId": "07352118107136348361"
     },
     "user_tz": -360
    },
    "id": "VyxqnU06v_Mi"
   },
   "outputs": [],
   "source": [
    "S.add_child(A, 1)\n",
    "S.add_child(G, 12)\n",
    "\n",
    "A.add_child(B, 3)\n",
    "A.add_child(C, 1)\n",
    "\n",
    "B.add_child(D, 3)\n",
    "\n",
    "C.add_child(D, 1)\n",
    "C.add_child(G, 2)\n",
    "\n",
    "D.add_child(G, 3)"
   ]
  },
  {
   "cell_type": "markdown",
   "metadata": {
    "id": "OSkqv72Wv_Mj"
   },
   "source": [
    "Take a look"
   ]
  },
  {
   "cell_type": "code",
   "execution_count": 34,
   "metadata": {
    "colab": {
     "base_uri": "https://localhost:8080/"
    },
    "executionInfo": {
     "elapsed": 13,
     "status": "ok",
     "timestamp": 1707804321163,
     "user": {
      "displayName": "Md Al-Imran",
      "userId": "07352118107136348361"
     },
     "user_tz": -360
    },
    "id": "q3rkZuBqv_Mj",
    "outputId": "42335bef-f583-45b4-f036-46a2243f0c5f",
    "scrolled": true
   },
   "outputs": [
    {
     "name": "stdout",
     "output_type": "stream",
     "text": [
      "S -> [1: A, 12: G]\n",
      "A -> [3: B, 1: C]\n",
      "B -> [3: D]\n",
      "C -> [1: D, 2: G]\n",
      "D -> [3: G]\n",
      "G -> []\n"
     ]
    }
   ],
   "source": [
    "_ = [print(node) for node in [S, A, B, C, D, G]]"
   ]
  },
  {
   "cell_type": "markdown",
   "metadata": {
    "id": "hOJSjCTqv_Mk"
   },
   "source": [
    "```\n",
    "UCS(root):\n",
    "    Insert the root into the queue\n",
    "    While the queue is not empty\n",
    "          Dequeue the maximum priority element from the queue\n",
    "          (If priorities are same, alphabetically smaller path is chosen)\n",
    "          If the path is ending in the goal state, print the path and exit\n",
    "          Else\n",
    "                Insert all the children of the dequeued element, with the cumulative costs as priority\n",
    "```"
   ]
  },
  {
   "cell_type": "code",
   "execution_count": 35,
   "metadata": {
    "collapsed": true,
    "executionInfo": {
     "elapsed": 11,
     "status": "ok",
     "timestamp": 1707804321163,
     "user": {
      "displayName": "Md Al-Imran",
      "userId": "07352118107136348361"
     },
     "user_tz": -360
    },
    "id": "tGRcGVwnv_Mk"
   },
   "outputs": [],
   "source": [
    "from queue import PriorityQueue\n",
    "\n",
    "\n",
    "def ucs(root, goal):\n",
    "    \"\"\"\n",
    "    Return the uniform cost search path from root to gaol.\n",
    "\n",
    "    Args:\n",
    "        root: the starting node for the search\n",
    "        goal: the goal node for the search\n",
    "\n",
    "    Returns: a list with the path from root to goal\n",
    "\n",
    "    Raises: ValueError if goal isn't in the graph\n",
    "    \"\"\"\n",
    "    # create a priority queue of paths\n",
    "    queue = PriorityQueue()\n",
    "    queue.put((0, [root]))\n",
    "\n",
    "    # iterate over the items in the queue\n",
    "    while not queue.empty():\n",
    "        # get the highest priority item\n",
    "        pair = queue.get()\n",
    "\n",
    "\n",
    "        current = pair[1][-1]\n",
    "\n",
    "        # if it's the goal, return\n",
    "        if current.label == goal:\n",
    "            return pair[1]\n",
    "        # add all the edges to the priority queue\n",
    "        for edge in current.children:\n",
    "            # create a new path with the node from the edge\n",
    "            new_path = list(pair[1])\n",
    "            new_path.append(edge.destination)\n",
    "            # append the new path to the queue with the edges priority\n",
    "            queue.put((pair[0] + edge.cost, new_path))"
   ]
  },
  {
   "cell_type": "code",
   "execution_count": 37,
   "metadata": {
    "colab": {
     "base_uri": "https://localhost:8080/"
    },
    "executionInfo": {
     "elapsed": 628,
     "status": "ok",
     "timestamp": 1707804393030,
     "user": {
      "displayName": "Md Al-Imran",
      "userId": "07352118107136348361"
     },
     "user_tz": -360
    },
    "id": "eJogIFRvv_Mk",
    "outputId": "e75a08b2-3463-47b4-86ce-015e5a8c3408",
    "scrolled": true
   },
   "outputs": [
    {
     "data": {
      "text/plain": [
       "[S -> [1: A, 12: G], A -> [3: B, 1: C], C -> [1: D, 2: G], G -> []]"
      ]
     },
     "execution_count": 37,
     "metadata": {},
     "output_type": "execute_result"
    }
   ],
   "source": [
    "ucs(S, 'G')"
   ]
  },
  {
   "cell_type": "markdown",
   "metadata": {
    "id": "W0mU-xgfv_Ml"
   },
   "source": []
  }
 ],
 "metadata": {
  "colab": {
   "provenance": []
  },
  "kernelspec": {
   "display_name": "Python 3",
   "language": "python",
   "name": "python3"
  },
  "language_info": {
   "codemirror_mode": {
    "name": "ipython",
    "version": 3
   },
   "file_extension": ".py",
   "mimetype": "text/x-python",
   "name": "python",
   "nbconvert_exporter": "python",
   "pygments_lexer": "ipython3",
   "version": "3.12.2"
  }
 },
 "nbformat": 4,
 "nbformat_minor": 0
}
